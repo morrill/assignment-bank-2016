{
 "cells": [
  {
   "cell_type": "code",
   "execution_count": 1,
   "metadata": {
    "collapsed": true
   },
   "outputs": [],
   "source": [
    "import numpy\n",
    "from matplotlib import pyplot, cm, rcParams\n",
    "%matplotlib inline\n",
    "rcParams['font.size'] = 14"
   ]
  },
  {
   "cell_type": "code",
   "execution_count": 61,
   "metadata": {
    "collapsed": false
   },
   "outputs": [],
   "source": [
    "# Space Discretizations\n",
    "Lx = 2                      # length in x direction (horizontal)\n",
    "Ly = 2                      # length in y direction (vertical)\n",
    "nx = 51                     # number of discretizations in x\n",
    "ny = 51                     # number of discretizations in y\n",
    "dx = 2/(nx-1)               # spatial increment in x\n",
    "dy = 2/(ny-1)               # spatial increment in y\n",
    "x = numpy.linspace(0,Lx,nx) # array for plotting in x\n",
    "y = numpy.linspace(0,Ly,ny) # array for plotting in y\n",
    "\n",
    "sigma = 1.0\n",
    "c = 10\n",
    "\n",
    "# time discretization\n",
    "time = 10        # total time in seconds\n",
    "nt = 1001        # number of time steps\n",
    "dt = sigma*dx/c # time increment"
   ]
  },
  {
   "cell_type": "code",
   "execution_count": 29,
   "metadata": {
    "collapsed": false
   },
   "outputs": [],
   "source": [
    "def init_cond(ny,nx,nt):\n",
    "    \"\"\"Creates initial conditions for 2D wave \n",
    "    \n",
    "    Parameters:\n",
    "    -----------\n",
    "    ny: int\n",
    "        number of spatial steps in vertical direction\n",
    "    nx: int \n",
    "        number of spatial steps in horizontal direction\n",
    "    ny: int\n",
    "        number of time steps\n",
    "        \n",
    "    Returns:\n",
    "    --------\n",
    "    pi: ndarray of floats\n",
    "        initial pressure distribution\n",
    "        indexing: pi[time step, vertical space step, horizontal space step]\n",
    "    \"\"\"\n",
    "    \n",
    "    pi = numpy.zeros((2,ny,nx))           # initiallize pressure array\n",
    "    pi[0,0,int(0.25*nx):int(0.75*nx)] = 10 # first time step\n",
    "    pi[1,0,int(0.25*nx):int(0.75*nx)] = 0  # second time step\n",
    "    \n",
    "    return pi"
   ]
  },
  {
   "cell_type": "code",
   "execution_count": 64,
   "metadata": {
    "collapsed": true
   },
   "outputs": [],
   "source": [
    "def solve_wave(pi, dy, dx, nt, dt, c):\n",
    "    \"\"\"Solves the 2D wave equation using the ______ scheme\n",
    "    \n",
    "    Parameters:\n",
    "    -----------\n",
    "    \n",
    "    Returns:\n",
    "    --------\n",
    "    \n",
    "    \"\"\"\n",
    "    p = numpy.zeros((nt,ny,nx))\n",
    "    p[0] = pi[0].copy()\n",
    "    p[1] = pi[1].copy()\n",
    "    \n",
    "    sx = c*dt/dx\n",
    "    sy = c*dt/dy\n",
    "    \n",
    "    for n in range(2,nt-2):\n",
    "        \n",
    "        # iterate through time steps\n",
    "        #p[n+1,1:-1,1:-1] = 2*p[n,1:-1,1:-1] - p[n-1,1:-1,1:-1] + dt**2*c**2*\\\n",
    "        #           ((p[n,1:-1,2:] - 2*p[n,1:-1,1:-1] + p[n,1:-1,:-2])/dx**2 +\\\n",
    "        #           (p[n,2:,1:-1] - 2*p[n,1:-1,1:-1] + p[n,:-2,1:-1])/dy**2) \n",
    "    \n",
    "        p[n+1,1:-1,1:-1] = sx**2*(p[n,1:-1,2:] + p[n,1:-1,:-2]) +\\\n",
    "                           sy**2*(p[n,2:,1:-1] + p[n,:-2,1:-1]) -\\\n",
    "                           2*(1 - sx**2 - sy**2)*p[n,1:-1,1:-1] - \\\n",
    "                           p[n-1,1:-1,1:-1]\n",
    "    \n",
    "    \n",
    "        # apply boundary conditions\n",
    "        p[n+1,:,0] = 0  # left wall\n",
    "        p[n+1,:,-1] = 0 # right wall\n",
    "        p[n+1,0,:] = 0  # bottom wall\n",
    "        p[n+1,-1,:] = 0 # top wall\n",
    "        \n",
    "    return p"
   ]
  },
  {
   "cell_type": "code",
   "execution_count": 65,
   "metadata": {
    "collapsed": false
   },
   "outputs": [],
   "source": [
    "pi = init_cond(ny,nx,nt)\n",
    "p = solve_wave(pi.copy(),dy,dx,nt,dt,c)"
   ]
  },
  {
   "cell_type": "code",
   "execution_count": 67,
   "metadata": {
    "collapsed": false
   },
   "outputs": [
    {
     "data": {
      "text/plain": [
       "0.0"
      ]
     },
     "execution_count": 67,
     "metadata": {},
     "output_type": "execute_result"
    }
   ],
   "source": [
    "p[1].max()"
   ]
  },
  {
   "cell_type": "code",
   "execution_count": 63,
   "metadata": {
    "collapsed": false
   },
   "outputs": [
    {
     "data": {
      "text/plain": [
       "1.0"
      ]
     },
     "execution_count": 63,
     "metadata": {},
     "output_type": "execute_result"
    }
   ],
   "source": [
    "c*dt/dx"
   ]
  }
 ],
 "metadata": {
  "kernelspec": {
   "display_name": "Python [Root]",
   "language": "python",
   "name": "Python [Root]"
  },
  "language_info": {
   "codemirror_mode": {
    "name": "ipython",
    "version": 3
   },
   "file_extension": ".py",
   "mimetype": "text/x-python",
   "name": "python",
   "nbconvert_exporter": "python",
   "pygments_lexer": "ipython3",
   "version": "3.5.2"
  }
 },
 "nbformat": 4,
 "nbformat_minor": 0
}
