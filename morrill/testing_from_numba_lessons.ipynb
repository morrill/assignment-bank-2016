{
 "cells": [
  {
   "cell_type": "code",
   "execution_count": 1,
   "metadata": {
    "collapsed": true
   },
   "outputs": [],
   "source": [
    "import numpy\n",
    "from matplotlib import pyplot, cm\n",
    "from mpl_toolkits.mplot3d import Axes3D\n",
    "%matplotlib inline\n",
    "from matplotlib import animation\n",
    "from IPython.display import HTML"
   ]
  },
  {
   "cell_type": "code",
   "execution_count": 155,
   "metadata": {
    "collapsed": true
   },
   "outputs": [],
   "source": [
    "nx = 41\n",
    "ny = 41\n",
    "nt = 500\n",
    "# c = 1 I don't know what this does\n",
    "dx = 8 / (nx - 1)\n",
    "dy = 2 / (ny - 1)\n",
    "x = numpy.linspace(0, 2, nx)\n",
    "y = numpy.linspace(0, 2, ny)\n",
    "X, Y = numpy.meshgrid(x, y)\n",
    "\n",
    "rho = 10\n",
    "nu = .001\n",
    "dt = .0001\n",
    "l2_target = 1e-4"
   ]
  },
  {
   "cell_type": "code",
   "execution_count": 147,
   "metadata": {
    "collapsed": true
   },
   "outputs": [],
   "source": [
    "# function for creating initial conditions\n",
    "def init_arrays():\n",
    "    u = numpy.zeros((ny, nx))\n",
    "    v = numpy.zeros((ny, nx))\n",
    "    p = numpy.zeros((ny, nx))\n",
    "    b = numpy.zeros((ny, nx))\n",
    "    pt = numpy.ndarray((nt,ny,nx))\n",
    "    \n",
    "    p[-1, 10:31] = 100 # beginning pressure pulse\n",
    "    return u, v, p, b, pt"
   ]
  },
  {
   "cell_type": "code",
   "execution_count": 148,
   "metadata": {
    "collapsed": true
   },
   "outputs": [],
   "source": [
    "def build_up_b(b, rho, dt, u, v, dx, dy):\n",
    "    \n",
    "    b[1:-1, 1:-1] = (rho * (1 / dt * \n",
    "                    ((u[1:-1, 2:] - u[1:-1, 0:-2]) / \n",
    "                     (2 * dx) + (v[2:, 1:-1] - v[0:-2, 1:-1]) / (2 * dy)) -\n",
    "                    ((u[1:-1, 2:] - u[1:-1, 0:-2]) / (2 * dx))**2 -\n",
    "                      2 * ((u[2:, 1:-1] - u[0:-2, 1:-1]) / (2 * dy) *\n",
    "                           (v[1:-1, 2:] - v[1:-1, 0:-2]) / (2 * dx))-\n",
    "                          ((v[2:, 1:-1] - v[0:-2, 1:-1]) / (2 * dy))**2))\n",
    "\n",
    "    return b"
   ]
  },
  {
   "cell_type": "code",
   "execution_count": 156,
   "metadata": {
    "collapsed": false
   },
   "outputs": [],
   "source": [
    "def pressure_poisson(p, dx, dy, b, nt, l2_target):\n",
    "    pn = numpy.empty_like(p)\n",
    "    pn = p.copy()\n",
    "    iter_diff = l2_target + 1\n",
    "    n = 0\n",
    "    while iter_diff > l2_target:\n",
    "        pn = p.copy()\n",
    "        p[1:-1, 1:-1] = (((pn[1:-1, 2:] + pn[1:-1, 0:-2]) * dy**2 + \n",
    "                          (pn[2:, 1:-1] + pn[0:-2, 1:-1]) * dx**2) /\n",
    "                          (2 * (dx**2 + dy**2)) -\n",
    "                          dx**2 * dy**2 / (2 * (dx**2 + dy**2)) * \n",
    "                          b[1:-1,1:-1])\n",
    "\n",
    "        p[:, -1] = p[:, -2] ##dp/dy = 0 at x = 2\n",
    "        p[0, :] = p[1, :]  ##dp/dy = 0 at y = 0\n",
    "        p[:, 0] = p[:, 1]    ##dp/dx = 0 at x = 0\n",
    "        # driving periodic pressure boundary condition\n",
    "        if nt == 0: #nt%100 == 0:\n",
    "            p[-1, 10:31] = 100 #p = 100 at y = 2, nt = 0, and every 100 time steps\n",
    "            p[-1, :10] = 0\n",
    "            p[-1, 30:] = 0\n",
    "        else:\n",
    "            p[-1, :] = 0       #p = 0 at y = 2 all other time steps\n",
    "            \n",
    "        if n%10==0:\n",
    "            iter_diff = numpy.sqrt(numpy.sum((p - pn)**2)/numpy.sum(pn**2))\n",
    "        n += 1\n",
    "    return p"
   ]
  },
  {
   "cell_type": "code",
   "execution_count": 150,
   "metadata": {
    "collapsed": false
   },
   "outputs": [],
   "source": [
    "def ink_channel_flow(nt, u, v, dt, dx, dy, p, pt, rho, nu):\n",
    "    un = numpy.empty_like(u)\n",
    "    vn = numpy.empty_like(v)\n",
    "    b = numpy.zeros((ny, nx))\n",
    "    \n",
    "    for n in range(nt):\n",
    "        un = u.copy()\n",
    "        vn = v.copy()\n",
    "        \n",
    "        b = build_up_b(b, rho, dt, u, v, dx, dy)\n",
    "        p = pressure_poisson(p, dx, dy, b, n, l2_target)\n",
    "        pt[n] = p.copy()\n",
    "        \n",
    "        u[1:-1, 1:-1] = (un[1:-1, 1:-1]-\n",
    "                         un[1:-1, 1:-1] * dt / dx *\n",
    "                        (un[1:-1, 1:-1] - un[1:-1, 0:-2]) -\n",
    "                         vn[1:-1, 1:-1] * dt / dy *\n",
    "                        (un[1:-1, 1:-1] - un[0:-2, 1:-1]) -\n",
    "                         dt / (2 * rho * dx) * (p[1:-1, 2:] - p[1:-1, 0:-2]) +\n",
    "                         nu * (dt / dx**2 *\n",
    "                        (un[1:-1, 2:] - 2 * un[1:-1, 1:-1] + un[1:-1, 0:-2]) +\n",
    "                         dt / dy**2 *\n",
    "                        (un[2:, 1:-1] - 2 * un[1:-1, 1:-1] + un[0:-2, 1:-1])))\n",
    "\n",
    "        v[1:-1,1:-1] = (vn[1:-1, 1:-1] -\n",
    "                        un[1:-1, 1:-1] * dt / dx *\n",
    "                       (vn[1:-1, 1:-1] - vn[1:-1, 0:-2]) -\n",
    "                        vn[1:-1, 1:-1] * dt / dy *\n",
    "                       (vn[1:-1, 1:-1] - vn[0:-2, 1:-1]) -\n",
    "                        dt / (2 * rho * dy) * (p[2:, 1:-1] - p[0:-2, 1:-1]) +\n",
    "                        nu * (dt / dx**2 *\n",
    "                       (vn[1:-1, 2:] - 2 * vn[1:-1, 1:-1] + vn[1:-1, 0:-2]) +\n",
    "                        dt / dy**2 *\n",
    "                       (vn[2:, 1:-1] - 2 * vn[1:-1, 1:-1] + vn[0:-2, 1:-1])))\n",
    "\n",
    "        u[0, :] = 0\n",
    "        u[:, 0] = u[:, 1]\n",
    "        u[:, -1] = u[:, -2]\n",
    "        u[-1, :] = 0    \n",
    "        v[0, :] = 0\n",
    "        v[-1, :]=0\n",
    "        v[:, 0] = 0\n",
    "        v[:, -1] = 0\n",
    "        \n",
    "        \n",
    "    return u, v, p, pt"
   ]
  },
  {
   "cell_type": "code",
   "execution_count": 157,
   "metadata": {
    "collapsed": false,
    "scrolled": true
   },
   "outputs": [],
   "source": [
    "u, v, p, b, pt = init_arrays()\n",
    "u, v, p, pt = ink_channel_flow(nt, u, v, dt, dx, dy, p, pt, rho, nu)"
   ]
  },
  {
   "cell_type": "code",
   "execution_count": 160,
   "metadata": {
    "collapsed": false
   },
   "outputs": [
    {
     "data": {
      "text/plain": [
       "<matplotlib.contour.QuadContourSet at 0x2bba4cb7080>"
      ]
     },
     "execution_count": 160,
     "metadata": {},
     "output_type": "execute_result"
    },
    {
     "data": {
      "image/png": "[encoded data removed]",
      "text/plain": [
       "<matplotlib.figure.Figure at 0x2bba51f4400>"
      ]
     },
     "metadata": {},
     "output_type": "display_data"
    }
   ],
   "source": [
    "fig = pyplot.figure(figsize=(8,2), dpi=100)\n",
    "# plotting the pressure field as a contour\n",
    "pyplot.contourf(X, Y, pt[0], cmap=cm.viridis) "
   ]
  },
  {
   "cell_type": "code",
   "execution_count": 161,
   "metadata": {
    "collapsed": false
   },
   "outputs": [
    {
     "data": {
      "image/png": "[encoded data removed]",
      "text/plain": [
       "<matplotlib.figure.Figure at 0x2bba4596fd0>"
      ]
     },
     "metadata": {},
     "output_type": "display_data"
    }
   ],
   "source": [
    "fig = pyplot.figure(figsize=(8,2))\n",
    "pyplot.xticks([]), pyplot.yticks([]);\n",
    "im = pyplot.imshow(pt[0], cmap=cm.viridis)"
   ]
  },
  {
   "cell_type": "code",
   "execution_count": 18,
   "metadata": {
    "collapsed": true
   },
   "outputs": [],
   "source": [
    "def init():\n",
    "    im.set_data(numpy.zeros((ny,nx)))\n",
    "    return im,\n",
    "def animate(data):\n",
    "    im.set_array(data)\n",
    "    return im,"
   ]
  },
  {
   "cell_type": "code",
   "execution_count": 162,
   "metadata": {
    "collapsed": false
   },
   "outputs": [],
   "source": [
    "anim = animation.FuncAnimation(fig, animate, frames=pt, interval=75)"
   ]
  },
  {
   "cell_type": "code",
   "execution_count": 163,
   "metadata": {
    "collapsed": false,
    "scrolled": false
   },
   "outputs": [
    {
     "data": {
      "text/html": [
       "<video width=\"576.0\" height=\"144.0\" controls autoplay loop>\n",
       "  <source type=\"video/mp4\" src=\"data:video/mp4;base64,AAAAHGZ0eXBNNFYgAAACAGlzb21pc28yYXZjMQAAAAhmcmVlAAAqPW1kYXQAAAKuBgX//6rcRem9\n",
       "5tlIt5Ys2CDZI+7veDI2NCAtIGNvcmUgMTQ4IHIyNzA1IDNmNWVkNTYgLSBILjI2NC9NUEVHLTQg\n",
       "QVZDIGNvZGVjIC0gQ29weWxlZnQgMjAwMy0yMDE2IC0gaHR0cDovL3d3dy52aWRlb2xhbi5vcmcv\n",
       "eDI2NC5odG1sIC0gb3B0aW9uczogY2FiYWM9MSByZWY9MyBkZWJsb2NrPTE6MDowIGFuYWx5c2U9\n",
       "MHgzOjB4MTEzIG1lPWhleCBzdWJtZT03IHBzeT0xIHBzeV9yZD0xLjAwOjAuMDAgbWl4ZWRfcmVm\n",
       "PTEgbWVfcmFuZ2U9MTYgY2hyb21hX21lPTEgdHJlbGxpcz0xIDh4OGRjdD0xIGNxbT0wIGRlYWR6\n",
       "b25lPTIxLDExIGZhc3RfcHNraXA9MSBjaHJvbWFfcXBfb2Zmc2V0PS0yIHRocmVhZHM9NCBsb29r\n",
       "YWhlYWRfdGhyZWFkcz0xIHNsaWNlZF90aHJlYWRzPTAgbnI9MCBkZWNpbWF0ZT0xIGludGVybGFj\n",
       "ZWQ9MCBibHVyYXlfY29tcGF0PTAgY29uc3RyYWluZWRfaW50cmE9MCBiZnJhbWVzPTMgYl9weXJh\n",
       "bWlkPTIgYl9hZGFwdD0xIGJfYmlhcz0wIGRpcmVjdD0xIHdlaWdodGI9MSBvcGVuX2dvcD0wIHdl\n",
       "aWdodHA9MiBrZXlpbnQ9MjUwIGtleWludF9taW49MTMgc2NlbmVjdXQ9NDAgaW50cmFfcmVmcmVz\n",
       "aD0wIHJjX2xvb2thaGVhZD00MCByYz1jcmYgbWJ0cmVlPTEgY3JmPTIzLjAgcWNvbXA9MC42MCBx\n",
       "cG1pbj0wIHFwbWF4PTY5IHFwc3RlcD00IGlwX3JhdGlvPTEuNDAgYXE9MToxLjAwAIAAAAMoZYiE\n",
       "AD///vdonwKbWkN6gOSVxSXbT4H/q2dwfJDTP4Hk41AqMnKqeMBBcZw7azLEC434+oavxBehjUVf\n",
       "0Sblz1Hlju/WCEHat3WTCzdBnVtaAQ+HQKrqkXXCOPRP6TobnOYNu7uhC50D+wtPOMRHZr+gXGUi\n",
       "psWVs6iFehevKBpV/bKYkXAAAAMAAAMCua8vPUcLBtuLXplAZExs2LCkWQmgHlxTt8QeoXpg94QP\n",
       "27Q7uwrc4AQZQHN6EONkJDppNSPO6x+EXDj3lZhwMb7Kf1olxRhQeYp3Nn4GDLVohbThAFOSOqwn\n",
       "0MRCMWHZ0jIvRbzfNWcGBS69SGwAAAMDigAdWyC4uzZuxp9gY6h2/X4MF6jBkM3T7a4FHfNev91h\n",
       "9qs2Sscde/7wqUAEDIZwvuy+jkumGOstKrpf1goW7+74hKPLygqKOnBgokNl0CY0PeedACYaCMAC\n",
       "9G2aXDy+sJ0qIqPJz+BLKDNtkkZn57jPDhgKAzGNf7ixrGr8AV/xlflJclcVVSEuUf3xb/Odf4EJ\n",
       "JAaN/+EubX0r0Mzimo5ffRSZO5VTp1T0CA0FNTjquKs0IPJU+Ps0wpn4IGWuiCI7EhtSDMnw3dO/\n",
       "ovbSUC0ojxTuMBZss0yA0R7a3GlzrOmnZf1l8dh1TYnr7AO00Rav02tPzqkTYPVOiAKeJqaKBV7Y\n",
       "2VcY/JLG+vnqR3bfinLZ8HgVikDM66WEtlwwWZBoj1xX92iKGAN78vNv9og1INHvCqe3o0kl3Sli\n",
       "CExHvH8FI8LH0n+imL82Xd4DGT7/Kk9AOdbr+7d9UYHse29oU8O1vDdAk4p38d132VmHtYrVjaNc\n",
       "8sJ3TeF+f5tQ7X7fw5odd/HEb0+1AHOu39A7gOQolzSXrDyhUD4IALfoM0a+lNxm5S93wUqMdv0b\n",
       "3JefRF4z+GWN5Re8TfHq/t7hNZFI6CwZ3T+1cZjSl0YS+Pku92F8B/tDS+fPcJAtT43J7nxI+6iO\n",
       "PuLx675bQmSV8kwRKngEN8n//44++A3GakbpYr+wwjQDZIu4FI81Hu5JmezA4FPHdooKQqF5QUzb\n",
       "HVHbiEwROwAAAUNBmiFsQQ/+qlkpugAB0Nf3vLeShM/Z9HuvWfokXz0q2fh9vnJIctshNCYAzHjQ\n",
       "kRXNINxOQP4ZlLMDvSappRhWzQ4/M0nW1wcc+tg8gTHrUYjlFW8B8NogV4gMGOAzV0ppyRY3LcwB\n",
       "tvM3JpsM1AyUKQFT2oOJxdZP1dvxIvBpqSffjKoTQojNyYASnhY/dcMs5I8aVMKfIziATw0wkzuS\n",
       "1395vKYg1ktGRO6wHagdCUviImqTRa8ibCowAKAFDjEo7AL74pmQnnIl3eopBFiUDlo03pDztmfP\n",
       "clUH7vsLpmYVeE9hFO/YQzIX0n0dN4ZpQgJht6MnIl9Pm9YSGe6j5XDjEEihJgUrORyac1sSBc02\n",
       "T2Cr8Y6ebC71gwP2l4fVBKKWhHvV/4X34qahxn4fzXlLOv1qA/JHE1f9U03yKB+VZQAAAKhBmkU8\n",
       "IZMphBD//qpZqG/+iE+CAB0NgHQxTwdRNxJxpk0SeSfLD+ryV4a4E2f4qZX81Cyc8p33HcwB1Mub\n",
       "B+EbCw+7wUohgdoGQDFEzcbgu67V4RG+8pEWt3ajeNqAVym/X2sQ5sFnNCTBtV49uD3hnDjtbIb2\n",
       "P9agblD3O1TYInZ0LSvdrrJDVSYnHmI4vMURSiRuzjYzlzmLFkniJkaQRkLmXlGycoEAAAAmQZ5j\n",
       "alPDfwhn0ePTB5Hd7VVbgVi7MJm7yjp6itYfZNahEdz0f0oAAAAUAZ6CdEM/COqPpjztZ7NpKfLP\n",
       "36EAAAAKAZ6EakM/AAA1IQAAABhBmolJqEFomUwIIf/+qlUAAEIYpCV7TQUAAAARQZ6nRREsN/8D\n",
       "f6fgJLoZIBkAAAAKAZ7GdEM/AAA1IAAAAAoBnshqQz8AADUgAAAAE0GazUmoQWyZTAgh//6qVQAA\n",
       "D1kAAAAPQZ7rRRUsN/8Df6fgJCtgAAAACgGfCnRDPwAANSAAAAAKAZ8MakM/AAA1IQAAABNBmxFJ\n",
       "qEFsmUwIIf/+qlUAAA9ZAAAAD0GfL0UVLDf/A3+n4CQrYQAAAAoBn050Qz8AADUgAAAACgGfUGpD\n",
       "PwAANSAAAAATQZtVSahBbJlMCCH//qpVAAAPWQAAAA9Bn3NFFSw3/wN/p+AkK2AAAAAKAZ+SdEM/\n",
       "AAA1IAAAAAoBn5RqQz8AADUhAAAAE0GbmUmoQWyZTAgh//6qVQAAD1gAAAAPQZ+3RRUsN/8Df6fg\n",
       "JCthAAAACgGf1nRDPwAANSEAAAAKAZ/YakM/AAA1IAAAABNBm91JqEFsmUwIIf/+qlUAAA9ZAAAA\n",
       "D0Gf+0UVLDf/A3+n4CQrYAAAAAoBnhp0Qz8AADUhAAAACgGeHGpDPwAANSEAAAATQZoBSahBbJlM\n",
       "CCH//qpVAAAPWAAAAA9Bnj9FFSw3/wN/p+AkK2AAAAAKAZ5edEM/AAA1IQAAAAoBnkBqQz8AADUg\n",
       "AAAAE0GaRUmoQWyZTAgh//6qVQAAD1kAAAAPQZ5jRRUsN/8Df6fgJCtgAAAACgGegnRDPwAANSEA\n",
       "AAAKAZ6EakM/AAA1IQAAABNBmolJqEFsmUwIIf/+qlUAAA9ZAAAAD0Gep0UVLDf/A3+n4CQrYQAA\n",
       "AAoBnsZ0Qz8AADUgAAAACgGeyGpDPwAANSAAAAATQZrNSahBbJlMCCH//qpVAAAPWQAAAA9BnutF\n",
       "FSw3/wN/p+AkK2AAAAAKAZ8KdEM/AAA1IAAAAAoBnwxqQz8AADUhAAAAE0GbEUmoQWyZTAgh//6q\n",
       "VQAAD1kAAAAPQZ8vRRUsN/8Df6fgJCthAAAACgGfTnRDPwAANSAAAAAKAZ9QakM/AAA1IAAAABNB\n",
       "m1VJqEFsmUwIIf/+qlUAAA9ZAAAAD0Gfc0UVLDf/A3+n4CQrYAAAAAoBn5J0Qz8AADUgAAAACgGf\n",
       "lGpDPwAANSEAAAATQZuZSahBbJlMCCH//qpVAAAPWAAAAA9Bn7dFFSw3/wN/p+AkK2EAAAAKAZ/W\n",
       "dEM/AAA1IQAAAAoBn9hqQz8AADUgAAAAE0Gb3UmoQWyZTAgh//6qVQAAD1kAAAAPQZ/7RRUsN/8D\n",
       "f6fgJCtgAAAACgGeGnRDPwAANSEAAAAKAZ4cakM/AAA1IQAAABNBmgFJqEFsmUwIIf/+qlUAAA9Y\n",
       "AAAAD0GeP0UVLDf/A3+n4CQrYAAAAAoBnl50Qz8AADUhAAAACgGeQGpDPwAANSAAAAATQZpFSahB\n",
       "bJlMCCH//qpVAAAPWQAAAA9BnmNFFSw3/wN/p+AkK2AAAAAKAZ6CdEM/AAA1IQAAAAoBnoRqQz8A\n",
       "ADUhAAAAE0GaiUmoQWyZTAgh//6qVQAAD1kAAAAPQZ6nRRUsN/8Df6fgJCthAAAACgGexnRDPwAA\n",
       "NSAAAAAKAZ7IakM/AAA1IAAAABNBms1JqEFsmUwIIf/+qlUAAA9ZAAAAD0Ge60UVLDf/A3+n4CQr\n",
       "YAAAAAoBnwp0Qz8AADUgAAAACgGfDGpDPwAANSEAAAATQZsRSahBbJlMCCH//qpVAAAPWQAAAA9B\n",
       "ny9FFSw3/wN/p+AkK2EAAAAKAZ9OdEM/AAA1IAAAAAoBn1BqQz8AADUgAAAAE0GbVUmoQWyZTAgh\n",
       "//6qVQAAD1kAAAAPQZ9zRRUsN/8Df6fgJCtgAAAACgGfknRDPwAANSAAAAAKAZ+UakM/AAA1IQAA\n",
       "ABNBm5lJqEFsmUwIIf/+qlUAAA9YAAAAD0Gft0UVLDf/A3+n4CQrYQAAAAoBn9Z0Qz8AADUhAAAA\n",
       "CgGf2GpDPwAANSAAAAATQZvdSahBbJlMCCH//qpVAAAPWQAAAA9Bn/tFFSw3/wN/p+AkK2AAAAAK\n",
       "AZ4adEM/AAA1IQAAAAoBnhxqQz8AADUhAAAAE0GaAUmoQWyZTAgh//6qVQAAD1gAAAAPQZ4/RRUs\n",
       "N/8Df6fgJCtgAAAACgGeXnRDPwAANSEAAAAKAZ5AakM/AAA1IAAAABNBmkVJqEFsmUwIIf/+qlUA\n",
       "AA9ZAAAAD0GeY0UVLDf/A3+n4CQrYAAAAAoBnoJ0Qz8AADUhAAAACgGehGpDPwAANSEAAAATQZqJ\n",
       "SahBbJlMCCH//qpVAAAPWQAAAA9BnqdFFSw3/wN/p+AkK2EAAAAKAZ7GdEM/AAA1IAAAAAoBnshq\n",
       "Qz8AADUgAAAAE0GazUmoQWyZTAgh//6qVQAAD1kAAAAPQZ7rRRUsN/8Df6fgJCtgAAAACgGfCnRD\n",
       "PwAANSAAAAAKAZ8MakM/AAA1IQAAABNBmxFJqEFsmUwIIf/+qlUAAA9ZAAAAD0GfL0UVLDf/A3+n\n",
       "4CQrYQAAAAoBn050Qz8AADUgAAAACgGfUGpDPwAANSAAAAATQZtVSahBbJlMCCH//qpVAAAPWQAA\n",
       "AA9Bn3NFFSw3/wN/p+AkK2AAAAAKAZ+SdEM/AAA1IAAAAAoBn5RqQz8AADUhAAAAE0GbmUmoQWyZ\n",
       "TAgh//6qVQAAD1gAAAAPQZ+3RRUsN/8Df6fgJCthAAAACgGf1nRDPwAANSEAAAAKAZ/YakM/AAA1\n",
       "IAAAABNBm91JqEFsmUwIIf/+qlUAAA9ZAAAAD0Gf+0UVLDf/A3+n4CQrYAAAAAoBnhp0Qz8AADUh\n",
       "AAAACgGeHGpDPwAANSEAAAATQZoBSahBbJlMCCH//qpVAAAPWAAAAA9Bnj9FFSw3/wN/p+AkK2AA\n",
       "AAAKAZ5edEM/AAA1IQAAAAoBnkBqQz8AADUgAAAAE0GaRUmoQWyZTAgh//6qVQAAD1kAAAAPQZ5j\n",
       "RRUsN/8Df6fgJCtgAAAACgGegnRDPwAANSEAAAAKAZ6EakM/AAA1IQAAABNBmolJqEFsmUwIIf/+\n",
       "qlUAAA9ZAAAAD0Gep0UVLDf/A3+n4CQrYQAAAAoBnsZ0Qz8AADUgAAAACgGeyGpDPwAANSAAAAAT\n",
       "QZrNSahBbJlMCCH//qpVAAAPWQAAAA9BnutFFSw3/wN/p+AkK2AAAAAKAZ8KdEM/AAA1IAAAAAoB\n",
       "nwxqQz8AADUhAAAAE0GbEUmoQWyZTAgh//6qVQAAD1kAAAAPQZ8vRRUsN/8Df6fgJCthAAAACgGf\n",
       "TnRDPwAANSAAAAAKAZ9QakM/AAA1IAAAABNBm1VJqEFsmUwIIf/+qlUAAA9ZAAAAD0Gfc0UVLDf/\n",
       "A3+n4CQrYAAAAAoBn5J0Qz8AADUgAAAACgGflGpDPwAANSEAAAATQZuZSahBbJlMCCH//qpVAAAP\n",
       "WAAAAA9Bn7dFFSw3/wN/p+AkK2EAAAAKAZ/WdEM/AAA1IQAAAAoBn9hqQz8AADUgAAAAE0Gb3Umo\n",
       "QWyZTAgh//6qVQAAD1kAAAAPQZ/7RRUsN/8Df6fgJCtgAAAACgGeGnRDPwAANSEAAAAKAZ4cakM/\n",
       "AAA1IQAAABNBmgFJqEFsmUwIIf/+qlUAAA9YAAAAD0GeP0UVLDf/A3+n4CQrYAAAAAoBnl50Qz8A\n",
       "ADUhAAAACgGeQGpDPwAANSAAAAATQZpFSahBbJlMCCH//qpVAAAPWQAAAA9BnmNFFSw3/wN/p+Ak\n",
       "K2AAAAAKAZ6CdEM/AAA1IQAAAAoBnoRqQz8AADUhAAAAE0GaiUmoQWyZTAgh//6qVQAAD1kAAAAP\n",
       "QZ6nRRUsN/8Df6fgJCthAAAACgGexnRDPwAANSAAAAAKAZ7IakM/AAA1IAAAABNBms1JqEFsmUwI\n",
       "If/+qlUAAA9ZAAAAD0Ge60UVLDf/A3+n4CQrYAAAAAoBnwp0Qz8AADUgAAAACgGfDGpDPwAANSEA\n",
       "AAATQZsRSahBbJlMCCH//qpVAAAPWQAAAA9Bny9FFSw3/wN/p+AkK2EAAAAKAZ9OdEM/AAA1IAAA\n",
       "AAoBn1BqQz8AADUgAAAAE0GbVUmoQWyZTAgh//6qVQAAD1kAAAAPQZ9zRRUsN/8Df6fgJCtgAAAA\n",
       "CgGfknRDPwAANSAAAAAKAZ+UakM/AAA1IQAAABNBm5lJqEFsmUwIIf/+qlUAAA9YAAAAD0Gft0UV\n",
       "LDf/A3+n4CQrYQAAAAoBn9Z0Qz8AADUhAAAACgGf2GpDPwAANSAAAAATQZvdSahBbJlMCCH//qpV\n",
       "AAAPWQAAAA9Bn/tFFSw3/wN/p+AkK2AAAAAKAZ4adEM/AAA1IQAAAAoBnhxqQz8AADUhAAAAE0Ga\n",
       "AUmoQWyZTAgh//6qVQAAD1gAAAAPQZ4/RRUsN/8Df6fgJCtgAAAACgGeXnRDPwAANSEAAAAKAZ5A\n",
       "akM/AAA1IAAAABNBmkVJqEFsmUwIIf/+qlUAAA9ZAAAAD0GeY0UVLDf/A3+n4CQrYAAAAAoBnoJ0\n",
       "Qz8AADUhAAAACgGehGpDPwAANSEAAAATQZqJSahBbJlMCCH//qpVAAAPWQAAAA9BnqdFFSw3/wN/\n",
       "p+AkK2EAAAAKAZ7GdEM/AAA1IAAAAAoBnshqQz8AADUgAAAAE0GazUmoQWyZTAgh//6qVQAAD1kA\n",
       "AAAPQZ7rRRUsN/8Df6fgJCtgAAAACgGfCnRDPwAANSAAAAAKAZ8MakM/AAA1IQAAABNBmxFJqEFs\n",
       "mUwIIf/+qlUAAA9ZAAAAD0GfL0UVLDf/A3+n4CQrYQAAAAoBn050Qz8AADUgAAAACgGfUGpDPwAA\n",
       "NSAAAAATQZtVSahBbJlMCCH//qpVAAAPWQAAAA9Bn3NFFSw3/wN/p+AkK2AAAAAKAZ+SdEM/AAA1\n",
       "IAAAAAoBn5RqQz8AADUhAAAAE0GbmUmoQWyZTAgh//6qVQAAD1gAAAAPQZ+3RRUsN/8Df6fgJCth\n",
       "AAAACgGf1nRDPwAANSEAAAAKAZ/YakM/AAA1IAAAABNBm91JqEFsmUwIIf/+qlUAAA9ZAAAAD0Gf\n",
       "+0UVLDf/A3+n4CQrYAAAAAoBnhp0Qz8AADUhAAAACgGeHGpDPwAANSEAAAATQZoBSahBbJlMCCH/\n",
       "/qpVAAAPWAAAAA9Bnj9FFSw3/wN/p+AkK2AAAAAKAZ5edEM/AAA1IQAAAAoBnkBqQz8AADUgAAAA\n",
       "E0GaRUmoQWyZTAgh//6qVQAAD1kAAAAPQZ5jRRUsN/8Df6fgJCtgAAAACgGegnRDPwAANSEAAAAK\n",
       "AZ6EakM/AAA1IQAAABNBmolJqEFsmUwIIf/+qlUAAA9ZAAAAD0Gep0UVLDf/A3+n4CQrYQAAAAoB\n",
       "nsZ0Qz8AADUgAAAACgGeyGpDPwAANSAAAAATQZrNSahBbJlMCCH//qpVAAAPWQAAAA9BnutFFSw3\n",
       "/wN/p+AkK2AAAAAKAZ8KdEM/AAA1IAAAAAoBnwxqQz8AADUhAAAAE0GbEUmoQWyZTAgh//6qVQAA\n",
       "D1kAAAAPQZ8vRRUsN/8Df6fgJCthAAAACgGfTnRDPwAANSAAAAAKAZ9QakM/AAA1IAAAABNBm1VJ\n",
       "qEFsmUwIIf/+qlUAAA9ZAAAAD0Gfc0UVLDf/A3+n4CQrYAAAAAoBn5J0Qz8AADUgAAAACgGflGpD\n",
       "PwAANSEAAAATQZuZSahBbJlMCCH//qpVAAAPWAAAAA9Bn7dFFSw3/wN/p+AkK2EAAAAKAZ/WdEM/\n",
       "AAA1IQAAAAoBn9hqQz8AADUgAAABE2WIggAE//73sY+BTcgADZc6inof4RWx9JBRerHZo4z/A66h\n",
       "MB8arUe4sxVlK0ndwto/JdeFU24kbf4JBC24iyKgGnD+auZvhfyyePxz5qwpmV8BbgPyuPpZbMJ3\n",
       "BFh581POl6KYsAAAAwAAAwAAX0NUxOm8boShfj/WARuwZSOwc+vB8cHqYy7Mtra7b74+2TgSdvK4\n",
       "AgO5jgGfai5Vd3gBg2KOXgmcGaS439mcAABvQJNNROFayKqsGCbJZRdTlVbS4nrOtOG/bG83rHoB\n",
       "QHxuRcd64BAm/+j6DeDfzdse5qQZpPQqtAmf87pi2kgE5Iy2Ouv6LDw/dbD7UIs74uhSGzs7Wfcp\n",
       "uyjddNHQFudLhtPBAAAADUGaJGxBD/6qVQAAD1gAAAAKQZ5CeIZ/AAA1IQAAAAoBnmF0Qz8AADUh\n",
       "AAAACgGeY2pDPwAANSAAAAATQZpoSahBaJlMCCH//qpVAAAPWAAAAAxBnoZFESw3/wAAK2EAAAAK\n",
       "AZ6ldEM/AAA1IAAAAAoBnqdqQz8AADUhAAAAE0GarEmoQWyZTAgh//6qVQAAD1gAAAAMQZ7KRRUs\n",
       "N/8AACthAAAACgGe6XRDPwAANSEAAAAKAZ7rakM/AAA1IQAAABNBmvBJqEFsmUwIIf/+qlUAAA9Z\n",
       "AAAADEGfDkUVLDf/AAArYAAAAAoBny10Qz8AADUgAAAACgGfL2pDPwAANSEAAAATQZs0SahBbJlM\n",
       "CCH//qpVAAAPWAAAAAxBn1JFFSw3/wAAK2AAAAAKAZ9xdEM/AAA1IQAAAAoBn3NqQz8AADUhAAAA\n",
       "E0GbeEmoQWyZTAgh//6qVQAAD1kAAAAMQZ+WRRUsN/8AACtgAAAACgGftXRDPwAANSAAAAAKAZ+3\n",
       "akM/AAA1IQAAABNBm7xJqEFsmUwIIf/+qlUAAA9YAAAADEGf2kUVLDf/AAArYAAAAAoBn/l0Qz8A\n",
       "ADUhAAAACgGf+2pDPwAANSAAAAATQZvgSahBbJlMCCH//qpVAAAPWQAAAAxBnh5FFSw3/wAAK2EA\n",
       "AAAKAZ49dEM/AAA1IAAAAAoBnj9qQz8AADUhAAAAE0GaJEmoQWyZTAgh//6qVQAAD1gAAAAMQZ5C\n",
       "RRUsN/8AACthAAAACgGeYXRDPwAANSEAAAAKAZ5jakM/AAA1IAAAABNBmmhJqEFsmUwIIf/+qlUA\n",
       "AA9YAAAADEGehkUVLDf/AAArYQAAAAoBnqV0Qz8AADUgAAAACgGep2pDPwAANSEAAAATQZqsSahB\n",
       "bJlMCCH//qpVAAAPWAAAAAxBnspFFSw3/wAAK2EAAAAKAZ7pdEM/AAA1IQAAAAoBnutqQz8AADUh\n",
       "AAAAE0Ga8EmoQWyZTAgh//6qVQAAD1kAAAAMQZ8ORRUsN/8AACtgAAAACgGfLXRDPwAANSAAAAAK\n",
       "AZ8vakM/AAA1IQAAABNBmzRJqEFsmUwIIf/+qlUAAA9YAAAADEGfUkUVLDf/AAArYAAAAAoBn3F0\n",
       "Qz8AADUhAAAACgGfc2pDPwAANSEAAAATQZt4SahBbJlMCCH//qpVAAAPWQAAAAxBn5ZFFSw3/wAA\n",
       "K2AAAAAKAZ+1dEM/AAA1IAAAAAoBn7dqQz8AADUhAAAAE0GbvEmoQWyZTAgh//6qVQAAD1gAAAAM\n",
       "QZ/aRRUsN/8AACtgAAAACgGf+XRDPwAANSEAAAAKAZ/7akM/AAA1IAAAABNBm+BJqEFsmUwIIf/+\n",
       "qlUAAA9ZAAAADEGeHkUVLDf/AAArYQAAAAoBnj10Qz8AADUgAAAACgGeP2pDPwAANSEAAAATQZok\n",
       "SahBbJlMCCH//qpVAAAPWAAAAAxBnkJFFSw3/wAAK2EAAAAKAZ5hdEM/AAA1IQAAAAoBnmNqQz8A\n",
       "ADUgAAAAE0GaaEmoQWyZTAgh//6qVQAAD1gAAAAMQZ6GRRUsN/8AACthAAAACgGepXRDPwAANSAA\n",
       "AAAKAZ6nakM/AAA1IQAAABNBmqxJqEFsmUwIIf/+qlUAAA9YAAAADEGeykUVLDf/AAArYQAAAAoB\n",
       "nul0Qz8AADUhAAAACgGe62pDPwAANSEAAAATQZrwSahBbJlMCCH//qpVAAAPWQAAAAxBnw5FFSw3\n",
       "/wAAK2AAAAAKAZ8tdEM/AAA1IAAAAAoBny9qQz8AADUhAAAAE0GbNEmoQWyZTAgh//6qVQAAD1gA\n",
       "AAAMQZ9SRRUsN/8AACtgAAAACgGfcXRDPwAANSEAAAAKAZ9zakM/AAA1IQAAABNBm3hJqEFsmUwI\n",
       "If/+qlUAAA9ZAAAADEGflkUVLDf/AAArYAAAAAoBn7V0Qz8AADUgAAAACgGft2pDPwAANSEAAAAT\n",
       "QZu8SahBbJlMCCH//qpVAAAPWAAAAAxBn9pFFSw3/wAAK2AAAAAKAZ/5dEM/AAA1IQAAAAoBn/tq\n",
       "Qz8AADUgAAAAE0Gb4EmoQWyZTAgh//6qVQAAD1kAAAAMQZ4eRRUsN/8AACthAAAACgGePXRDPwAA\n",
       "NSAAAAAKAZ4/akM/AAA1IQAAABNBmiRJqEFsmUwIIf/+qlUAAA9YAAAADEGeQkUVLDf/AAArYQAA\n",
       "AAoBnmF0Qz8AADUhAAAACgGeY2pDPwAANSAAAAATQZpoSahBbJlMCCH//qpVAAAPWAAAAAxBnoZF\n",
       "FSw3/wAAK2EAAAAKAZ6ldEM/AAA1IAAAAAoBnqdqQz8AADUhAAAAE0GarEmoQWyZTAgh//6qVQAA\n",
       "D1gAAAAMQZ7KRRUsN/8AACthAAAACgGe6XRDPwAANSEAAAAKAZ7rakM/AAA1IQAAABNBmvBJqEFs\n",
       "mUwIIf/+qlUAAA9ZAAAADEGfDkUVLDf/AAArYAAAAAoBny10Qz8AADUgAAAACgGfL2pDPwAANSEA\n",
       "AAATQZs0SahBbJlMCCH//qpVAAAPWAAAAAxBn1JFFSw3/wAAK2AAAAAKAZ9xdEM/AAA1IQAAAAoB\n",
       "n3NqQz8AADUhAAAAE0GbeEmoQWyZTAgh//6qVQAAD1kAAAAMQZ+WRRUsN/8AACtgAAAACgGftXRD\n",
       "PwAANSAAAAAKAZ+3akM/AAA1IQAAABNBm7xJqEFsmUwIIf/+qlUAAA9YAAAADEGf2kUVLDf/AAAr\n",
       "YAAAAAoBn/l0Qz8AADUhAAAACgGf+2pDPwAANSAAAAATQZvgSahBbJlMCCH//qpVAAAPWQAAAAxB\n",
       "nh5FFSw3/wAAK2EAAAAKAZ49dEM/AAA1IAAAAAoBnj9qQz8AADUhAAAAE0GaJEmoQWyZTAgh//6q\n",
       "VQAAD1gAAAAMQZ5CRRUsN/8AACthAAAACgGeYXRDPwAANSEAAAAKAZ5jakM/AAA1IAAAABNBmmhJ\n",
       "qEFsmUwIIf/+qlUAAA9YAAAADEGehkUVLDf/AAArYQAAAAoBnqV0Qz8AADUgAAAACgGep2pDPwAA\n",
       "NSEAAAATQZqsSahBbJlMCCH//qpVAAAPWAAAAAxBnspFFSw3/wAAK2EAAAAKAZ7pdEM/AAA1IQAA\n",
       "AAoBnutqQz8AADUhAAAAE0Ga8EmoQWyZTAgh//6qVQAAD1kAAAAMQZ8ORRUsN/8AACtgAAAACgGf\n",
       "LXRDPwAANSAAAAAKAZ8vakM/AAA1IQAAABNBmzRJqEFsmUwIIf/+qlUAAA9YAAAADEGfUkUVLDf/\n",
       "AAArYAAAAAoBn3F0Qz8AADUhAAAACgGfc2pDPwAANSEAAAATQZt4SahBbJlMCCH//qpVAAAPWQAA\n",
       "AAxBn5ZFFSw3/wAAK2AAAAAKAZ+1dEM/AAA1IAAAAAoBn7dqQz8AADUhAAAAE0GbvEmoQWyZTAgh\n",
       "//6qVQAAD1gAAAAMQZ/aRRUsN/8AACtgAAAACgGf+XRDPwAANSEAAAAKAZ/7akM/AAA1IAAAABNB\n",
       "m+BJqEFsmUwIIf/+qlUAAA9ZAAAADEGeHkUVLDf/AAArYQAAAAoBnj10Qz8AADUgAAAACgGeP2pD\n",
       "PwAANSEAAAATQZokSahBbJlMCCH//qpVAAAPWAAAAAxBnkJFFSw3/wAAK2EAAAAKAZ5hdEM/AAA1\n",
       "IQAAAAoBnmNqQz8AADUgAAAAE0GaaEmoQWyZTAgh//6qVQAAD1gAAAAMQZ6GRRUsN/8AACthAAAA\n",
       "CgGepXRDPwAANSAAAAAKAZ6nakM/AAA1IQAAABNBmqxJqEFsmUwIIf/+qlUAAA9YAAAADEGeykUV\n",
       "LDf/AAArYQAAAAoBnul0Qz8AADUhAAAACgGe62pDPwAANSEAAAATQZrwSahBbJlMCCH//qpVAAAP\n",
       "WQAAAAxBnw5FFSw3/wAAK2AAAAAKAZ8tdEM/AAA1IAAAAAoBny9qQz8AADUhAAAAE0GbNEmoQWyZ\n",
       "TAgh//6qVQAAD1gAAAAMQZ9SRRUsN/8AACtgAAAACgGfcXRDPwAANSEAAAAKAZ9zakM/AAA1IQAA\n",
       "ABNBm3hJqEFsmUwIIf/+qlUAAA9ZAAAADEGflkUVLDf/AAArYAAAAAoBn7V0Qz8AADUgAAAACgGf\n",
       "t2pDPwAANSEAAAATQZu8SahBbJlMCCH//qpVAAAPWAAAAAxBn9pFFSw3/wAAK2AAAAAKAZ/5dEM/\n",
       "AAA1IQAAAAoBn/tqQz8AADUgAAAAE0Gb4EmoQWyZTAgh//6qVQAAD1kAAAAMQZ4eRRUsN/8AACth\n",
       "AAAACgGePXRDPwAANSAAAAAKAZ4/akM/AAA1IQAAABNBmiRJqEFsmUwIIf/+qlUAAA9YAAAADEGe\n",
       "QkUVLDf/AAArYQAAAAoBnmF0Qz8AADUhAAAACgGeY2pDPwAANSAAAAATQZpoSahBbJlMCCH//qpV\n",
       "AAAPWAAAAAxBnoZFFSw3/wAAK2EAAAAKAZ6ldEM/AAA1IAAAAAoBnqdqQz8AADUhAAAAE0GarEmo\n",
       "QWyZTAgh//6qVQAAD1gAAAAMQZ7KRRUsN/8AACthAAAACgGe6XRDPwAANSEAAAAKAZ7rakM/AAA1\n",
       "IQAAABNBmvBJqEFsmUwIIf/+qlUAAA9ZAAAADEGfDkUVLDf/AAArYAAAAAoBny10Qz8AADUgAAAA\n",
       "CgGfL2pDPwAANSEAAAATQZs0SahBbJlMCCH//qpVAAAPWAAAAAxBn1JFFSw3/wAAK2AAAAAKAZ9x\n",
       "dEM/AAA1IQAAAAoBn3NqQz8AADUhAAAAE0GbeEmoQWyZTAgh//6qVQAAD1kAAAAMQZ+WRRUsN/8A\n",
       "ACtgAAAACgGftXRDPwAANSAAAAAKAZ+3akM/AAA1IQAAABNBm7xJqEFsmUwIIf/+qlUAAA9YAAAA\n",
       "DEGf2kUVLDf/AAArYAAAAAoBn/l0Qz8AADUhAAAACgGf+2pDPwAANSAAAAATQZvgSahBbJlMCCH/\n",
       "/qpVAAAPWQAAAAxBnh5FFSw3/wAAK2EAAAAKAZ49dEM/AAA1IAAAAAoBnj9qQz8AADUhAAAAE0Ga\n",
       "JEmoQWyZTAgh//6qVQAAD1gAAAAMQZ5CRRUsN/8AACthAAAACgGeYXRDPwAANSEAAAAKAZ5jakM/\n",
       "AAA1IAAAABNBmmhJqEFsmUwIIf/+qlUAAA9YAAAADEGehkUVLDf/AAArYQAAAAoBnqV0Qz8AADUg\n",
       "AAAACgGep2pDPwAANSEAAAATQZqsSahBbJlMCCH//qpVAAAPWAAAAAxBnspFFSw3/wAAK2EAAAAK\n",
       "AZ7pdEM/AAA1IQAAAAoBnutqQz8AADUhAAAAE0Ga8EmoQWyZTAgh//6qVQAAD1kAAAAMQZ8ORRUs\n",
       "N/8AACtgAAAACgGfLXRDPwAANSAAAAAKAZ8vakM/AAA1IQAAABNBmzRJqEFsmUwIf//+qZYAADwg\n",
       "AAAADEGfUkUVLDf/AAArYAAAAAoBn3F0Qz8AADUhAAAACgGfc2pDPwAANSEAAAATQZt4SahBbJlM\n",
       "CG///qeEAAB3QQAAAAxBn5ZFFSw3/wAAK2AAAAAKAZ+1dEM/AAA1IAAAAAoBn7dqQz8AADUhAAAA\n",
       "EkGbuUmoQWyZTAhn//6eEAAB0wAAGpptb292AAAAbG12aGQAAAAAAAAAAAAAAAAAAAPoAACSfAAB\n",
       "AAABAAAAAAAAAAAAAAAAAQAAAAAAAAAAAAAAAAAAAAEAAAAAAAAAAAAAAAAAAEAAAAAAAAAAAAAA\n",
       "AAAAAAAAAAAAAAAAAAAAAAAAAAACAAAZxHRyYWsAAABcdGtoZAAAAAMAAAAAAAAAAAAAAAEAAAAA\n",
       "AACSfAAAAAAAAAAAAAAAAAAAAAAAAQAAAAAAAAAAAAAAAAAAAAEAAAAAAAAAAAAAAAAAAEAAAAAC\n",
       "QAAAAJAAAAAAACRlZHRzAAAAHGVsc3QAAAAAAAAAAQAAknwAAAYAAAEAAAAAGTxtZGlhAAAAIG1k\n",
       "aGQAAAAAAAAAAAAAAAAAACgAAAXcAFXEAAAAAAAtaGRscgAAAAAAAAAAdmlkZQAAAAAAAAAAAAAA\n",
       "AFZpZGVvSGFuZGxlcgAAABjnbWluZgAAABR2bWhkAAAAAQAAAAAAAAAAAAAAJGRpbmYAAAAcZHJl\n",
       "ZgAAAAAAAAABAAAADHVybCAAAAABAAAYp3N0YmwAAACzc3RzZAAAAAAAAAABAAAAo2F2YzEAAAAA\n",
       "AAAAAQAAAAAAAAAAAAAAAAAAAAACQACQAEgAAABIAAAAAAAAAAEAAAAAAAAAAAAAAAAAAAAAAAAA\n",
       "AAAAAAAAAAAAAAAAAAAY//8AAAAxYXZjQwFkAAz/4QAYZ2QADKzZQJBOhAAAAwAMAAADAUA8UKZY\n",
       "AQAGaOvjyyLAAAAAHHV1aWRraEDyXyRPxbo5pRvPAyPzAAAAAAAAABhzdHRzAAAAAAAAAAEAAAH0\n",
       "AAADAAAAABhzdHNzAAAAAAAAAAIAAAABAAAA+wAAD6hjdHRzAAAAAAAAAfMAAAACAAAGAAAAAAEA\n",
       "AA8AAAAAAQAABgAAAAABAAAAAAAAAAEAAAMAAAAAAQAADwAAAAABAAAGAAAAAAEAAAAAAAAAAQAA\n",
       "AwAAAAABAAAPAAAAAAEAAAYAAAAAAQAAAAAAAAABAAADAAAAAAEAAA8AAAAAAQAABgAAAAABAAAA\n",
       "AAAAAAEAAAMAAAAAAQAADwAAAAABAAAGAAAAAAEAAAAAAAAAAQAAAwAAAAABAAAPAAAAAAEAAAYA\n",
       "AAAAAQAAAAAAAAABAAADAAAAAAEAAA8AAAAAAQAABgAAAAABAAAAAAAAAAEAAAMAAAAAAQAADwAA\n",
       "AAABAAAGAAAAAAEAAAAAAAAAAQAAAwAAAAABAAAPAAAAAAEAAAYAAAAAAQAAAAAAAAABAAADAAAA\n",
       "AAEAAA8AAAAAAQAABgAAAAABAAAAAAAAAAEAAAMAAAAAAQAADwAAAAABAAAGAAAAAAEAAAAAAAAA\n",
       "AQAAAwAAAAABAAAPAAAAAAEAAAYAAAAAAQAAAAAAAAABAAADAAAAAAEAAA8AAAAAAQAABgAAAAAB\n",
       "AAAAAAAAAAEAAAMAAAAAAQAADwAAAAABAAAGAAAAAAEAAAAAAAAAAQAAAwAAAAABAAAPAAAAAAEA\n",
       "AAYAAAAAAQAAAAAAAAABAAADAAAAAAEAAA8AAAAAAQAABgAAAAABAAAAAAAAAAEAAAMAAAAAAQAA\n",
       "DwAAAAABAAAGAAAAAAEAAAAAAAAAAQAAAwAAAAABAAAPAAAAAAEAAAYAAAAAAQAAAAAAAAABAAAD\n",
       "AAAAAAEAAA8AAAAAAQAABgAAAAABAAAAAAAAAAEAAAMAAAAAAQAADwAAAAABAAAGAAAAAAEAAAAA\n",
       "AAAAAQAAAwAAAAABAAAPAAAAAAEAAAYAAAAAAQAAAAAAAAABAAADAAAAAAEAAA8AAAAAAQAABgAA\n",
       "AAABAAAAAAAAAAEAAAMAAAAAAQAADwAAAAABAAAGAAAAAAEAAAAAAAAAAQAAAwAAAAABAAAPAAAA\n",
       "AAEAAAYAAAAAAQAAAAAAAAABAAADAAAAAAEAAA8AAAAAAQAABgAAAAABAAAAAAAAAAEAAAMAAAAA\n",
       "AQAADwAAAAABAAAGAAAAAAEAAAAAAAAAAQAAAwAAAAABAAAPAAAAAAEAAAYAAAAAAQAAAAAAAAAB\n",
       "AAADAAAAAAEAAA8AAAAAAQAABgAAAAABAAAAAAAAAAEAAAMAAAAAAQAADwAAAAABAAAGAAAAAAEA\n",
       "AAAAAAAAAQAAAwAAAAABAAAPAAAAAAEAAAYAAAAAAQAAAAAAAAABAAADAAAAAAEAAA8AAAAAAQAA\n",
       "BgAAAAABAAAAAAAAAAEAAAMAAAAAAQAADwAAAAABAAAGAAAAAAEAAAAAAAAAAQAAAwAAAAABAAAP\n",
       "AAAAAAEAAAYAAAAAAQAAAAAAAAABAAADAAAAAAEAAA8AAAAAAQAABgAAAAABAAAAAAAAAAEAAAMA\n",
       "AAAAAQAADwAAAAABAAAGAAAAAAEAAAAAAAAAAQAAAwAAAAABAAAPAAAAAAEAAAYAAAAAAQAAAAAA\n",
       "AAABAAADAAAAAAEAAA8AAAAAAQAABgAAAAABAAAAAAAAAAEAAAMAAAAAAQAADwAAAAABAAAGAAAA\n",
       "AAEAAAAAAAAAAQAAAwAAAAABAAAPAAAAAAEAAAYAAAAAAQAAAAAAAAABAAADAAAAAAEAAA8AAAAA\n",
       "AQAABgAAAAABAAAAAAAAAAEAAAMAAAAAAQAADwAAAAABAAAGAAAAAAEAAAAAAAAAAQAAAwAAAAAB\n",
       "AAAPAAAAAAEAAAYAAAAAAQAAAAAAAAABAAADAAAAAAEAAA8AAAAAAQAABgAAAAABAAAAAAAAAAEA\n",
       "AAMAAAAAAQAADwAAAAABAAAGAAAAAAEAAAAAAAAAAQAAAwAAAAABAAAPAAAAAAEAAAYAAAAAAQAA\n",
       "AAAAAAABAAADAAAAAAEAAA8AAAAAAQAABgAAAAABAAAAAAAAAAEAAAMAAAAAAQAADwAAAAABAAAG\n",
       "AAAAAAEAAAAAAAAAAQAAAwAAAAABAAAPAAAAAAEAAAYAAAAAAQAAAAAAAAABAAADAAAAAAEAAA8A\n",
       "AAAAAQAABgAAAAABAAAAAAAAAAEAAAMAAAAAAQAADwAAAAABAAAGAAAAAAEAAAAAAAAAAQAAAwAA\n",
       "AAABAAAPAAAAAAEAAAYAAAAAAQAAAAAAAAABAAADAAAAAAEAAA8AAAAAAQAABgAAAAABAAAAAAAA\n",
       "AAEAAAMAAAAAAQAADwAAAAABAAAGAAAAAAEAAAAAAAAAAQAAAwAAAAABAAAPAAAAAAEAAAYAAAAA\n",
       "AQAAAAAAAAABAAADAAAAAAEAAA8AAAAAAQAABgAAAAABAAAAAAAAAAEAAAMAAAAAAQAADwAAAAAB\n",
       "AAAGAAAAAAEAAAAAAAAAAQAAAwAAAAABAAAPAAAAAAEAAAYAAAAAAQAAAAAAAAABAAADAAAAAAEA\n",
       "AA8AAAAAAQAABgAAAAABAAAAAAAAAAEAAAMAAAAAAQAADwAAAAABAAAGAAAAAAEAAAAAAAAAAQAA\n",
       "AwAAAAABAAAPAAAAAAEAAAYAAAAAAQAAAAAAAAABAAADAAAAAAEAAA8AAAAAAQAABgAAAAABAAAA\n",
       "AAAAAAEAAAMAAAAAAQAADwAAAAABAAAGAAAAAAEAAAAAAAAAAQAAAwAAAAABAAAGAAAAAAEAAA8A\n",
       "AAAAAQAABgAAAAABAAAAAAAAAAEAAAMAAAAAAQAADwAAAAABAAAGAAAAAAEAAAAAAAAAAQAAAwAA\n",
       "AAABAAAPAAAAAAEAAAYAAAAAAQAAAAAAAAABAAADAAAAAAEAAA8AAAAAAQAABgAAAAABAAAAAAAA\n",
       "AAEAAAMAAAAAAQAADwAAAAABAAAGAAAAAAEAAAAAAAAAAQAAAwAAAAABAAAPAAAAAAEAAAYAAAAA\n",
       "AQAAAAAAAAABAAADAAAAAAEAAA8AAAAAAQAABgAAAAABAAAAAAAAAAEAAAMAAAAAAQAADwAAAAAB\n",
       "AAAGAAAAAAEAAAAAAAAAAQAAAwAAAAABAAAPAAAAAAEAAAYAAAAAAQAAAAAAAAABAAADAAAAAAEA\n",
       "AA8AAAAAAQAABgAAAAABAAAAAAAAAAEAAAMAAAAAAQAADwAAAAABAAAGAAAAAAEAAAAAAAAAAQAA\n",
       "AwAAAAABAAAPAAAAAAEAAAYAAAAAAQAAAAAAAAABAAADAAAAAAEAAA8AAAAAAQAABgAAAAABAAAA\n",
       "AAAAAAEAAAMAAAAAAQAADwAAAAABAAAGAAAAAAEAAAAAAAAAAQAAAwAAAAABAAAPAAAAAAEAAAYA\n",
       "AAAAAQAAAAAAAAABAAADAAAAAAEAAA8AAAAAAQAABgAAAAABAAAAAAAAAAEAAAMAAAAAAQAADwAA\n",
       "AAABAAAGAAAAAAEAAAAAAAAAAQAAAwAAAAABAAAPAAAAAAEAAAYAAAAAAQAAAAAAAAABAAADAAAA\n",
       "AAEAAA8AAAAAAQAABgAAAAABAAAAAAAAAAEAAAMAAAAAAQAADwAAAAABAAAGAAAAAAEAAAAAAAAA\n",
       "AQAAAwAAAAABAAAPAAAAAAEAAAYAAAAAAQAAAAAAAAABAAADAAAAAAEAAA8AAAAAAQAABgAAAAAB\n",
       "AAAAAAAAAAEAAAMAAAAAAQAADwAAAAABAAAGAAAAAAEAAAAAAAAAAQAAAwAAAAABAAAPAAAAAAEA\n",
       "AAYAAAAAAQAAAAAAAAABAAADAAAAAAEAAA8AAAAAAQAABgAAAAABAAAAAAAAAAEAAAMAAAAAAQAA\n",
       "DwAAAAABAAAGAAAAAAEAAAAAAAAAAQAAAwAAAAABAAAPAAAAAAEAAAYAAAAAAQAAAAAAAAABAAAD\n",
       "AAAAAAEAAA8AAAAAAQAABgAAAAABAAAAAAAAAAEAAAMAAAAAAQAADwAAAAABAAAGAAAAAAEAAAAA\n",
       "AAAAAQAAAwAAAAABAAAPAAAAAAEAAAYAAAAAAQAAAAAAAAABAAADAAAAAAEAAA8AAAAAAQAABgAA\n",
       "AAABAAAAAAAAAAEAAAMAAAAAAQAADwAAAAABAAAGAAAAAAEAAAAAAAAAAQAAAwAAAAABAAAPAAAA\n",
       "AAEAAAYAAAAAAQAAAAAAAAABAAADAAAAAAEAAA8AAAAAAQAABgAAAAABAAAAAAAAAAEAAAMAAAAA\n",
       "AQAADwAAAAABAAAGAAAAAAEAAAAAAAAAAQAAAwAAAAABAAAPAAAAAAEAAAYAAAAAAQAAAAAAAAAB\n",
       "AAADAAAAAAEAAA8AAAAAAQAABgAAAAABAAAAAAAAAAEAAAMAAAAAAQAADwAAAAABAAAGAAAAAAEA\n",
       "AAAAAAAAAQAAAwAAAAABAAAPAAAAAAEAAAYAAAAAAQAAAAAAAAABAAADAAAAAAEAAA8AAAAAAQAA\n",
       "BgAAAAABAAAAAAAAAAEAAAMAAAAAAQAADwAAAAABAAAGAAAAAAEAAAAAAAAAAQAAAwAAAAABAAAP\n",
       "AAAAAAEAAAYAAAAAAQAAAAAAAAABAAADAAAAAAEAAA8AAAAAAQAABgAAAAABAAAAAAAAAAEAAAMA\n",
       "AAAAAQAADwAAAAABAAAGAAAAAAEAAAAAAAAAAQAAAwAAAAABAAAPAAAAAAEAAAYAAAAAAQAAAAAA\n",
       "AAABAAADAAAAAAEAAA8AAAAAAQAABgAAAAABAAAAAAAAAAEAAAMAAAAAAQAADwAAAAABAAAGAAAA\n",
       "AAEAAAAAAAAAAQAAAwAAAAABAAAPAAAAAAEAAAYAAAAAAQAAAAAAAAABAAADAAAAAAEAAA8AAAAA\n",
       "AQAABgAAAAABAAAAAAAAAAEAAAMAAAAAAQAADwAAAAABAAAGAAAAAAEAAAAAAAAAAQAAAwAAAAAB\n",
       "AAAPAAAAAAEAAAYAAAAAAQAAAAAAAAABAAADAAAAAAEAAA8AAAAAAQAABgAAAAABAAAAAAAAAAEA\n",
       "AAMAAAAAAQAADwAAAAABAAAGAAAAAAEAAAAAAAAAAQAAAwAAAAABAAAPAAAAAAEAAAYAAAAAAQAA\n",
       "AAAAAAABAAADAAAAAAEAAA8AAAAAAQAABgAAAAABAAAAAAAAAAEAAAMAAAAAAQAADwAAAAABAAAG\n",
       "AAAAAAEAAAAAAAAAAQAAAwAAAAABAAAPAAAAAAEAAAYAAAAAAQAAAAAAAAABAAADAAAAAAEAAA8A\n",
       "AAAAAQAABgAAAAABAAAAAAAAAAEAAAMAAAAAAQAADwAAAAABAAAGAAAAAAEAAAAAAAAAAQAAAwAA\n",
       "AAABAAAPAAAAAAEAAAYAAAAAAQAAAAAAAAABAAADAAAAAAEAAA8AAAAAAQAABgAAAAABAAAAAAAA\n",
       "AAEAAAMAAAAAAQAADwAAAAABAAAGAAAAAAEAAAAAAAAAAQAAAwAAAAABAAAGAAAAABxzdHNjAAAA\n",
       "AAAAAAEAAAABAAAB9AAAAAEAAAfkc3RzegAAAAAAAAAAAAAB9AAABd4AAAFHAAAArAAAACoAAAAY\n",
       "AAAADgAAABwAAAAVAAAADgAAAA4AAAAXAAAAEwAAAA4AAAAOAAAAFwAAABMAAAAOAAAADgAAABcA\n",
       "AAATAAAADgAAAA4AAAAXAAAAEwAAAA4AAAAOAAAAFwAAABMAAAAOAAAADgAAABcAAAATAAAADgAA\n",
       "AA4AAAAXAAAAEwAAAA4AAAAOAAAAFwAAABMAAAAOAAAADgAAABcAAAATAAAADgAAAA4AAAAXAAAA\n",
       "EwAAAA4AAAAOAAAAFwAAABMAAAAOAAAADgAAABcAAAATAAAADgAAAA4AAAAXAAAAEwAAAA4AAAAO\n",
       "AAAAFwAAABMAAAAOAAAADgAAABcAAAATAAAADgAAAA4AAAAXAAAAEwAAAA4AAAAOAAAAFwAAABMA\n",
       "AAAOAAAADgAAABcAAAATAAAADgAAAA4AAAAXAAAAEwAAAA4AAAAOAAAAFwAAABMAAAAOAAAADgAA\n",
       "ABcAAAATAAAADgAAAA4AAAAXAAAAEwAAAA4AAAAOAAAAFwAAABMAAAAOAAAADgAAABcAAAATAAAA\n",
       "DgAAAA4AAAAXAAAAEwAAAA4AAAAOAAAAFwAAABMAAAAOAAAADgAAABcAAAATAAAADgAAAA4AAAAX\n",
       "AAAAEwAAAA4AAAAOAAAAFwAAABMAAAAOAAAADgAAABcAAAATAAAADgAAAA4AAAAXAAAAEwAAAA4A\n",
       "AAAOAAAAFwAAABMAAAAOAAAADgAAABcAAAATAAAADgAAAA4AAAAXAAAAEwAAAA4AAAAOAAAAFwAA\n",
       "ABMAAAAOAAAADgAAABcAAAATAAAADgAAAA4AAAAXAAAAEwAAAA4AAAAOAAAAFwAAABMAAAAOAAAA\n",
       "DgAAABcAAAATAAAADgAAAA4AAAAXAAAAEwAAAA4AAAAOAAAAFwAAABMAAAAOAAAADgAAABcAAAAT\n",
       "AAAADgAAAA4AAAAXAAAAEwAAAA4AAAAOAAAAFwAAABMAAAAOAAAADgAAABcAAAATAAAADgAAAA4A\n",
       "AAAXAAAAEwAAAA4AAAAOAAAAFwAAABMAAAAOAAAADgAAABcAAAATAAAADgAAAA4AAAAXAAAAEwAA\n",
       "AA4AAAAOAAAAFwAAABMAAAAOAAAADgAAABcAAAATAAAADgAAAA4AAAAXAAAAEwAAAA4AAAAOAAAA\n",
       "FwAAABMAAAAOAAAADgAAABcAAAATAAAADgAAAA4AAAAXAAAAEwAAAA4AAAAOAAAAFwAAABMAAAAO\n",
       "AAAADgAAABcAAAATAAAADgAAAA4AAAAXAAAAEwAAAA4AAAAOAAAAFwAAABMAAAAOAAAADgAAABcA\n",
       "AAATAAAADgAAAA4AAAEXAAAAEQAAAA4AAAAOAAAADgAAABcAAAAQAAAADgAAAA4AAAAXAAAAEAAA\n",
       "AA4AAAAOAAAAFwAAABAAAAAOAAAADgAAABcAAAAQAAAADgAAAA4AAAAXAAAAEAAAAA4AAAAOAAAA\n",
       "FwAAABAAAAAOAAAADgAAABcAAAAQAAAADgAAAA4AAAAXAAAAEAAAAA4AAAAOAAAAFwAAABAAAAAO\n",
       "AAAADgAAABcAAAAQAAAADgAAAA4AAAAXAAAAEAAAAA4AAAAOAAAAFwAAABAAAAAOAAAADgAAABcA\n",
       "AAAQAAAADgAAAA4AAAAXAAAAEAAAAA4AAAAOAAAAFwAAABAAAAAOAAAADgAAABcAAAAQAAAADgAA\n",
       "AA4AAAAXAAAAEAAAAA4AAAAOAAAAFwAAABAAAAAOAAAADgAAABcAAAAQAAAADgAAAA4AAAAXAAAA\n",
       "EAAAAA4AAAAOAAAAFwAAABAAAAAOAAAADgAAABcAAAAQAAAADgAAAA4AAAAXAAAAEAAAAA4AAAAO\n",
       "AAAAFwAAABAAAAAOAAAADgAAABcAAAAQAAAADgAAAA4AAAAXAAAAEAAAAA4AAAAOAAAAFwAAABAA\n",
       "AAAOAAAADgAAABcAAAAQAAAADgAAAA4AAAAXAAAAEAAAAA4AAAAOAAAAFwAAABAAAAAOAAAADgAA\n",
       "ABcAAAAQAAAADgAAAA4AAAAXAAAAEAAAAA4AAAAOAAAAFwAAABAAAAAOAAAADgAAABcAAAAQAAAA\n",
       "DgAAAA4AAAAXAAAAEAAAAA4AAAAOAAAAFwAAABAAAAAOAAAADgAAABcAAAAQAAAADgAAAA4AAAAX\n",
       "AAAAEAAAAA4AAAAOAAAAFwAAABAAAAAOAAAADgAAABcAAAAQAAAADgAAAA4AAAAXAAAAEAAAAA4A\n",
       "AAAOAAAAFwAAABAAAAAOAAAADgAAABcAAAAQAAAADgAAAA4AAAAXAAAAEAAAAA4AAAAOAAAAFwAA\n",
       "ABAAAAAOAAAADgAAABcAAAAQAAAADgAAAA4AAAAXAAAAEAAAAA4AAAAOAAAAFwAAABAAAAAOAAAA\n",
       "DgAAABcAAAAQAAAADgAAAA4AAAAXAAAAEAAAAA4AAAAOAAAAFwAAABAAAAAOAAAADgAAABcAAAAQ\n",
       "AAAADgAAAA4AAAAXAAAAEAAAAA4AAAAOAAAAFwAAABAAAAAOAAAADgAAABcAAAAQAAAADgAAAA4A\n",
       "AAAXAAAAEAAAAA4AAAAOAAAAFwAAABAAAAAOAAAADgAAABcAAAAQAAAADgAAAA4AAAAXAAAAEAAA\n",
       "AA4AAAAOAAAAFwAAABAAAAAOAAAADgAAABcAAAAQAAAADgAAAA4AAAAWAAAAFHN0Y28AAAAAAAAA\n",
       "AQAAACwAAABidWR0YQAAAFptZXRhAAAAAAAAACFoZGxyAAAAAAAAAABtZGlyYXBwbAAAAAAAAAAA\n",
       "AAAAAC1pbHN0AAAAJal0b28AAAAdZGF0YQAAAAEAAAAATGF2ZjU3LjUwLjEwMA==\n",
       "\">\n",
       "  Your browser does not support the video tag.\n",
       "</video>"
      ],
      "text/plain": [
       "<IPython.core.display.HTML object>"
      ]
     },
     "execution_count": 163,
     "metadata": {},
     "output_type": "execute_result"
    }
   ],
   "source": [
    "HTML(anim.to_html5_video())"
   ]
  },
  {
   "cell_type": "code",
   "execution_count": 137,
   "metadata": {
    "collapsed": false
   },
   "outputs": [
    {
     "data": {
      "text/plain": [
       "<matplotlib.image.AxesImage at 0x2bba4f47ba8>"
      ]
     },
     "execution_count": 137,
     "metadata": {},
     "output_type": "execute_result"
    },
    {
     "data": {
      "image/png": "[encoded data removed]",
      "text/plain": [
       "<matplotlib.figure.Figure at 0x2bba4efeeb8>"
      ]
     },
     "metadata": {},
     "output_type": "display_data"
    }
   ],
   "source": [
    "pyplot.imshow(pt[6],cmap=cm.viridis)"
   ]
  },
  {
   "cell_type": "code",
   "execution_count": 130,
   "metadata": {
    "collapsed": false,
    "scrolled": true
   },
   "outputs": [
    {
     "name": "stdout",
     "output_type": "stream",
     "text": [
      "100.0\n",
      "18.9890191635\n",
      "4.24464730376\n",
      "2.93915899927\n",
      "2.19975251203\n",
      "1.74607170484\n",
      "1.52061278252\n",
      "1.34321251563\n",
      "1.19891619791\n",
      "1.07870712201\n",
      "0.97713152637\n",
      "0.890203763283\n",
      "0.827452718164\n",
      "0.778068608717\n",
      "0.734590941553\n",
      "0.695051296426\n",
      "0.658935287046\n",
      "0.625890644623\n",
      "0.597119381768\n",
      "0.573230629601\n",
      "0.550986728625\n",
      "0.53017034873\n",
      "0.510527829064\n",
      "0.492076206013\n",
      "0.474665398091\n",
      "0.458161114146\n",
      "0.442499126658\n",
      "0.427669995165\n",
      "0.413564975577\n",
      "0.400147803075\n",
      "0.387365007236\n",
      "0.375179929259\n",
      "0.36450634644\n",
      "0.355512210596\n",
      "0.346909459116\n",
      "0.33862811072\n",
      "0.330669137986\n",
      "0.322998911136\n",
      "0.315645694931\n",
      "0.308557434628\n",
      "0.301728639494\n",
      "0.295163911867\n",
      "0.288844332664\n",
      "0.282746765701\n",
      "0.276841319021\n",
      "0.271108429932\n",
      "0.265546802659\n",
      "0.260137696414\n",
      "0.254897728407\n",
      "0.249793944635\n",
      "0.244830137826\n",
      "0.240001847924\n",
      "0.2353026544\n",
      "0.230713806675\n",
      "0.226254869552\n",
      "0.221900015063\n",
      "0.217661885236\n",
      "0.213528742677\n",
      "0.2094967299\n",
      "0.205564112354\n",
      "0.201729554667\n",
      "0.197999778804\n",
      "0.194357072324\n",
      "0.190815169181\n",
      "0.187355256213\n",
      "0.183982858291\n",
      "0.180697790657\n",
      "0.177490570984\n",
      "0.174375246485\n",
      "0.171341266319\n",
      "0.168379381901\n",
      "0.165498284454\n",
      "0.162686531592\n",
      "0.15994867867\n",
      "0.15727696472\n",
      "0.154670257131\n",
      "0.152118097602\n",
      "0.149625717579\n",
      "0.147182394995\n",
      "0.144790337639\n",
      "0.14244849538\n",
      "0.140154911972\n",
      "0.137907577125\n",
      "0.135704736715\n",
      "0.133544951472\n",
      "0.131427059648\n",
      "0.129345369043\n",
      "0.127308129589\n",
      "0.125310873471\n",
      "0.123352233732\n",
      "0.121431780951\n",
      "0.119549347659\n",
      "0.117708782554\n",
      "0.115902128107\n",
      "0.114132027578\n",
      "0.112398905375\n",
      "0.110702386801\n",
      "0.109041806598\n",
      "0.107416411399\n",
      "0.105825415585\n"
     ]
    }
   ],
   "source": [
    "for i in range(0,100):\n",
    "    print(pt[i].max())"
   ]
  },
  {
   "cell_type": "code",
   "execution_count": 113,
   "metadata": {
    "collapsed": false
   },
   "outputs": [
    {
     "data": {
      "text/plain": [
       "(41, 41)"
      ]
     },
     "execution_count": 113,
     "metadata": {},
     "output_type": "execute_result"
    }
   ],
   "source": [
    "numpy.shape(pt[0])"
   ]
  }
 ],
 "metadata": {
  "kernelspec": {
   "display_name": "Python [Root]",
   "language": "python",
   "name": "Python [Root]"
  },
  "language_info": {
   "codemirror_mode": {
    "name": "ipython",
    "version": 3
   },
   "file_extension": ".py",
   "mimetype": "text/x-python",
   "name": "python",
   "nbconvert_exporter": "python",
   "pygments_lexer": "ipython3",
   "version": "3.5.2"
  }
 },
 "nbformat": 4,
 "nbformat_minor": 0
}
